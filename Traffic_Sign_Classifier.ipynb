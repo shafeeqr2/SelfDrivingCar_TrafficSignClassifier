{
 "cells": [
  {
   "cell_type": "markdown",
   "metadata": {},
   "source": [
    "# Self-Driving Car Engineer Nanodegree\n",
    "\n",
    "## Deep Learning\n",
    "\n",
    "## Project: Build a Traffic Sign Recognition Classifier\n",
    "\n",
    "In this notebook, a template is provided for you to implement your functionality in stages, which is required to successfully complete this project. If additional code is required that cannot be included in the notebook, be sure that the Python code is successfully imported and included in your submission if necessary. \n",
    "\n",
    "> **Note**: Once you have completed all of the code implementations, you need to finalize your work by exporting the iPython Notebook as an HTML document. Before exporting the notebook to html, all of the code cells need to have been run so that reviewers can see the final implementation and output. You can then export the notebook by using the menu above and navigating to  \\n\",\n",
    "    \"**File -> Download as -> HTML (.html)**. Include the finished document along with this notebook as your submission. \n",
    "\n",
    "In addition to implementing code, there is a writeup to complete. The writeup should be completed in a separate file, which can be either a markdown file or a pdf document. There is a [write up template](https://github.com/udacity/CarND-Traffic-Sign-Classifier-Project/blob/master/writeup_template.md) that can be used to guide the writing process. Completing the code template and writeup template will cover all of the [rubric points](https://review.udacity.com/#!/rubrics/481/view) for this project.\n",
    "\n",
    "The [rubric](https://review.udacity.com/#!/rubrics/481/view) contains \"Stand Out Suggestions\" for enhancing the project beyond the minimum requirements. The stand out suggestions are optional. If you decide to pursue the \"stand out suggestions\", you can include the code in this Ipython notebook and also discuss the results in the writeup file.\n",
    "\n",
    "\n",
    ">**Note:** Code and Markdown cells can be executed using the **Shift + Enter** keyboard shortcut. In addition, Markdown cells can be edited by typically double-clicking the cell to enter edit mode."
   ]
  },
  {
   "cell_type": "markdown",
   "metadata": {},
   "source": [
    "---\n",
    "## Step 0: Load The Data"
   ]
  },
  {
   "cell_type": "code",
   "execution_count": 306,
   "metadata": {
    "collapsed": true
   },
   "outputs": [],
   "source": [
    "# Load pickled data\n",
    "import pickle\n",
    "\n",
    "\n",
    "# TODO: Fill this in based on where you saved the training and testing data\n",
    "\n",
    "training_file = 'train.p'\n",
    "validation_file = 'valid.p'\n",
    "testing_file = 'test.p'\n",
    "classes_url = 'signnames.csv'\n",
    "\n",
    "with open(training_file, mode='rb') as f:\n",
    "    train = pickle.load(f)\n",
    "with open(validation_file, mode='rb') as f:\n",
    "    valid = pickle.load(f)\n",
    "with open(testing_file, mode='rb') as f:\n",
    "    test = pickle.load(f)\n",
    "    \n",
    "X_train, y_train = train['features'], train['labels']\n",
    "X_valid, y_valid = valid['features'], valid['labels']\n",
    "X_test, y_test = test['features'], test['labels']\n",
    "\n",
    "\n"
   ]
  },
  {
   "cell_type": "markdown",
   "metadata": {},
   "source": [
    "---\n",
    "\n",
    "## Step 1: Dataset Summary & Exploration\n",
    "\n",
    "The pickled data is a dictionary with 4 key/value pairs:\n",
    "\n",
    "- `'features'` is a 4D array containing raw pixel data of the traffic sign images, (num examples, width, height, channels).\n",
    "- `'labels'` is a 1D array containing the label/class id of the traffic sign. The file `signnames.csv` contains id -> name mappings for each id.\n",
    "- `'sizes'` is a list containing tuples, (width, height) representing the original width and height the image.\n",
    "- `'coords'` is a list containing tuples, (x1, y1, x2, y2) representing coordinates of a bounding box around the sign in the image. **THESE COORDINATES ASSUME THE ORIGINAL IMAGE. THE PICKLED DATA CONTAINS RESIZED VERSIONS (32 by 32) OF THESE IMAGES**\n",
    "\n",
    "Complete the basic data summary below. Use python, numpy and/or pandas methods to calculate the data summary rather than hard coding the results. For example, the [pandas shape method](http://pandas.pydata.org/pandas-docs/stable/generated/pandas.DataFrame.shape.html) might be useful for calculating some of the summary results. "
   ]
  },
  {
   "cell_type": "markdown",
   "metadata": {},
   "source": [
    "### Provide a Basic Summary of the Data Set Using Python, Numpy and/or Pandas"
   ]
  },
  {
   "cell_type": "code",
   "execution_count": 307,
   "metadata": {
    "scrolled": true
   },
   "outputs": [
    {
     "name": "stdout",
     "output_type": "stream",
     "text": [
      "Number of training examples = 34799\n",
      "Number of testing examples = 12630\n",
      "Image data shape = (32, 32, 3)\n",
      "Number of classes = 43\n",
      "Counters Count = Counter({2: 2010, 1: 1980, 13: 1920, 12: 1890, 38: 1860, 10: 1800, 4: 1770, 5: 1650, 25: 1350, 9: 1320, 7: 1290, 3: 1260, 8: 1260, 11: 1170, 18: 1080, 35: 1080, 17: 990, 14: 690, 31: 690, 33: 599, 15: 540, 26: 540, 28: 480, 23: 450, 30: 390, 6: 360, 16: 360, 34: 360, 22: 330, 36: 330, 20: 300, 40: 300, 21: 270, 39: 270, 24: 240, 29: 240, 27: 210, 32: 210, 41: 210, 42: 210, 0: 180, 19: 180, 37: 180})\n"
     ]
    }
   ],
   "source": [
    "import pandas as pd\n",
    "\n",
    "from collections import Counter\n",
    "\n",
    "### Replace each question mark with the appropriate value. \n",
    "### Use python, pandas or numpy methods rather than hard coding the results\n",
    "\n",
    "\n",
    "# TODO: Number of training examples\n",
    "n_train = len(X_train)\n",
    "\n",
    "# TODO: Number of validation examples\n",
    "n_validation = len(X_valid)\n",
    "\n",
    "# TODO: Number of testing examples.\n",
    "n_test = len(X_test)\n",
    "\n",
    "# TODO: What's the shape of an traffic sign image?\n",
    "image_shape = X_train[0].shape\n",
    "\n",
    "# TODO: How many unique classes/labels there are in the dataset.\n",
    "n_classes = len(pd.read_csv(classes_url))\n",
    "\n",
    "examples_count = Counter(y_train)\n",
    "\n",
    "print(\"Number of training examples =\", n_train)\n",
    "print(\"Number of testing examples =\", n_test)\n",
    "print(\"Image data shape =\", image_shape)\n",
    "print(\"Number of classes =\", n_classes)\n",
    "print(\"Counters Count =\", examples_count)\n"
   ]
  },
  {
   "cell_type": "markdown",
   "metadata": {},
   "source": [
    "### Include an exploratory visualization of the dataset"
   ]
  },
  {
   "cell_type": "markdown",
   "metadata": {},
   "source": [
    "Visualize the German Traffic Signs Dataset using the pickled file(s). This is open ended, suggestions include: plotting traffic sign images, plotting the count of each sign, etc. \n",
    "\n",
    "The [Matplotlib](http://matplotlib.org/) [examples](http://matplotlib.org/examples/index.html) and [gallery](http://matplotlib.org/gallery.html) pages are a great resource for doing visualizations in Python.\n",
    "\n",
    "**NOTE:** It's recommended you start with something simple first. If you wish to do more, come back to it after you've completed the rest of the sections. It can be interesting to look at the distribution of classes in the training, validation and test set. Is the distribution the same? Are there more examples of some classes than others?"
   ]
  },
  {
   "cell_type": "code",
   "execution_count": 308,
   "metadata": {
    "scrolled": false
   },
   "outputs": [
    {
     "name": "stdout",
     "output_type": "stream",
     "text": [
      "5509\n",
      "31831\n",
      "4826\n",
      "10950\n",
      "1649\n",
      "27082\n",
      "15920\n",
      "18055\n",
      "34102\n",
      "31600\n"
     ]
    },
    {
     "data": {
      "image/png": "[encoded data removed]",
      "text/plain": [
       "<matplotlib.figure.Figure at 0x146246b0ba8>"
      ]
     },
     "metadata": {},
     "output_type": "display_data"
    },
    {
     "data": {
      "image/png": "[encoded data removed]",
      "text/plain": [
       "<matplotlib.figure.Figure at 0x14628255320>"
      ]
     },
     "metadata": {},
     "output_type": "display_data"
    }
   ],
   "source": [
    "### Data exploration visualization code goes here.\n",
    "### Feel free to use as many code cells as needed.\n",
    "import matplotlib.pyplot as plt\n",
    "import numpy as np\n",
    "import random\n",
    "import cv2\n",
    "\n",
    "# Visualizations will be shown in the notebook.\n",
    "%matplotlib inline\n",
    "\n",
    "\n",
    "plt.hist(y_train, np.arange(43))\n",
    "plt.title(\"Frequency of Classes\")\n",
    "\n",
    "fig = plt.figure(figsize = (20,20))\n",
    "\n",
    "for i in range(10):\n",
    "\n",
    "    index = random.randint(0, len(X_train))\n",
    "    print(index)\n",
    "    image = X_train[index].squeeze()\n",
    "\n",
    "    ax1 = fig.add_subplot(1,10,i + 1)\n",
    "    ax1.set_title(y_train[index], fontsize=22)\n",
    "    ax1.imshow(image)\n",
    "    \n",
    "\n",
    "\n"
   ]
  },
  {
   "cell_type": "markdown",
   "metadata": {},
   "source": [
    "----\n",
    "\n",
    "## Step 2: Design and Test a Model Architecture\n",
    "\n",
    "Design and implement a deep learning model that learns to recognize traffic signs. Train and test your model on the [German Traffic Sign Dataset](http://benchmark.ini.rub.de/?section=gtsrb&subsection=dataset).\n",
    "\n",
    "The LeNet-5 implementation shown in the [classroom](https://classroom.udacity.com/nanodegrees/nd013/parts/fbf77062-5703-404e-b60c-95b78b2f3f9e/modules/6df7ae49-c61c-4bb2-a23e-6527e69209ec/lessons/601ae704-1035-4287-8b11-e2c2716217ad/concepts/d4aca031-508f-4e0b-b493-e7b706120f81) at the end of the CNN lesson is a solid starting point. You'll have to change the number of classes and possibly the preprocessing, but aside from that it's plug and play! \n",
    "\n",
    "With the LeNet-5 solution from the lecture, you should expect a validation set accuracy of about 0.89. To meet specifications, the validation set accuracy will need to be at least 0.93. It is possible to get an even higher accuracy, but 0.93 is the minimum for a successful project submission. \n",
    "\n",
    "There are various aspects to consider when thinking about this problem:\n",
    "\n",
    "- Neural network architecture (is the network over or underfitting?)\n",
    "- Play around preprocessing techniques (normalization, rgb to grayscale, etc)\n",
    "- Number of examples per label (some have more than others).\n",
    "- Generate fake data.\n",
    "\n",
    "Here is an example of a [published baseline model on this problem](http://yann.lecun.com/exdb/publis/pdf/sermanet-ijcnn-11.pdf). It's not required to be familiar with the approach used in the paper but, it's good practice to try to read papers like these."
   ]
  },
  {
   "cell_type": "markdown",
   "metadata": {},
   "source": [
    "### Pre-process the Data Set (normalization, grayscale, etc.)"
   ]
  },
  {
   "cell_type": "markdown",
   "metadata": {},
   "source": [
    "Minimally, the image data should be normalized so that the data has mean zero and equal variance. For image data, `(pixel - 128)/ 128` is a quick way to approximately normalize the data and can be used in this project. \n",
    "\n",
    "Other pre-processing steps are optional. You can try different techniques to see if it improves performance. \n",
    "\n",
    "Use the code cell (or multiple code cells, if necessary) to implement the first step of your project."
   ]
  },
  {
   "cell_type": "code",
   "execution_count": 309,
   "metadata": {},
   "outputs": [
    {
     "name": "stdout",
     "output_type": "stream",
     "text": [
      "34799\n",
      "34799\n",
      "4410\n",
      "4410\n",
      "12630\n",
      "12630\n",
      "34799\n",
      "34799\n",
      "4410\n",
      "4410\n",
      "12630\n",
      "12630\n"
     ]
    },
    {
     "data": {
      "text/plain": [
       "<matplotlib.image.AxesImage at 0x14612812c18>"
      ]
     },
     "execution_count": 309,
     "metadata": {},
     "output_type": "execute_result"
    },
    {
     "data": {
      "image/png": "[encoded data removed]",
      "text/plain": [
       "<matplotlib.figure.Figure at 0x14618558ba8>"
      ]
     },
     "metadata": {},
     "output_type": "display_data"
    },
    {
     "data": {
      "image/png": "[encoded data removed]",
      "text/plain": [
       "<matplotlib.figure.Figure at 0x1461858c0f0>"
      ]
     },
     "metadata": {},
     "output_type": "display_data"
    },
    {
     "data": {
      "image/png": "[encoded data removed]",
      "text/plain": [
       "<matplotlib.figure.Figure at 0x146125f4c88>"
      ]
     },
     "metadata": {},
     "output_type": "display_data"
    }
   ],
   "source": [
    "### Preprocess the data here. It is required to normalize the data. Other preprocessing steps could include \n",
    "### converting to grayscale, etc.\n",
    "### Feel free to use as many code cells as needed.\n",
    "\n",
    "from sklearn.utils import shuffle\n",
    "    \n",
    "X_train, y_train = shuffle(X_train, y_train)\n",
    "\n",
    "def CreateGrayImageArray(X_data_set):\n",
    "    \n",
    "    X_data_set_gray_array = []\n",
    "    \n",
    "    for i in range(len(X_data_set)):\n",
    "\n",
    "        image = X_train[i].squeeze()\n",
    "        \n",
    "        gray_image = cv2.cvtColor(image, cv2.COLOR_RGB2GRAY)\n",
    "\n",
    "        gray_image = gray_image.reshape(32,32,1)\n",
    "\n",
    "        X_data_set_gray_array.append(gray_image)\n",
    "\n",
    "    X_data_set_gray = np.array(X_data_set_gray_array)\n",
    "    \n",
    "    return X_data_set_gray\n",
    "\n",
    "def normalize_data(X_data_set):\n",
    "    print(len(X_data_set))\n",
    "    normalized_data_set = (X_data_set - 128.0) / 128.0\n",
    "    print(len(normalized_data_set))\n",
    "    return normalized_data_set\n",
    "\n",
    "\n",
    "def GrayscaleImage(pixel_data):\n",
    "    grayscaled_image = cv2.cvtColor(pixel_data, cv2.COLOR_RGB2GRAY)        \n",
    "    grayscaled_image = grayscaled_image.reshape(32,32,1)\n",
    "    return grayscaled_image\n",
    "\n",
    "def CreateGrayscaleImageArray(X_data):\n",
    "    X_data = np.array([GrayscaleImage(X_data[i]) for i in range(len(X_data))])\n",
    "    return X_data\n",
    "        \n",
    "\n",
    "\n",
    "#Grayscale the training, validation and testing sets\n",
    "X_train_gray = CreateGrayscaleImageArray(X_train)\n",
    "X_valid_gray = CreateGrayscaleImageArray(X_valid)\n",
    "X_test_gray  = CreateGrayscaleImageArray(X_test)\n",
    "\"\"\"\n",
    "\n",
    "X_train_gray = CreateGrayImageArray(X_train)\n",
    "X_valid_gray = CreateGrayImageArray(X_valid)\n",
    "X_test_gray = CreateGrayImageArray(X_test)\n",
    "\"\"\"\n",
    "norm_X_train_gray = normalize_data(X_train_gray)\n",
    "norm_X_valid_gray = normalize_data(X_valid_gray)\n",
    "norm_X_test_gray = normalize_data(X_test_gray)\n",
    "\n",
    "norm_X_train = normalize_data(X_train)\n",
    "norm_X_valid = normalize_data(X_valid)\n",
    "norm_X_test = normalize_data(X_test)\n",
    "\n",
    "\n",
    "#X_train set\n",
    "index = random.randint(0, len(X_train))\n",
    "image = X_train[index].squeeze()\n",
    "image_gray = X_train_gray[index].squeeze()\n",
    "\n",
    "fig = plt.figure(figsize = (1,2))\n",
    "ax1 = fig.add_subplot(1,2,1)\n",
    "ax1.set_title(y_train[index], fontsize=22)\n",
    "ax1.imshow(image)\n",
    "\n",
    "ax2 = fig.add_subplot(1,2,2)\n",
    "ax2.set_title(y_train[index], fontsize=22)\n",
    "ax2.imshow(image_gray,  cmap='gray')\n",
    "\n",
    "#X_valid set\n",
    "index = random.randint(0, len(X_valid))\n",
    "image = X_valid[index].squeeze()\n",
    "image_gray = X_valid_gray[index].squeeze()\n",
    "\n",
    "fig = plt.figure(figsize = (1,2))\n",
    "ax1 = fig.add_subplot(1,2,1)\n",
    "ax1.set_title(y_valid[index], fontsize=22)\n",
    "ax1.imshow(image)\n",
    "\n",
    "ax2 = fig.add_subplot(1,2,2)\n",
    "ax2.set_title(y_valid[index], fontsize=22)\n",
    "ax2.imshow(image_gray,  cmap='gray')\n",
    "\n",
    "#X_test set\n",
    "index = random.randint(0, len(X_test))\n",
    "image = X_test[index].squeeze()\n",
    "image_gray = X_test_gray[index].squeeze()\n",
    "\n",
    "fig = plt.figure(figsize = (1,2))\n",
    "ax1 = fig.add_subplot(1,2,1)\n",
    "ax1.set_title(y_test[index], fontsize=22)\n",
    "ax1.imshow(image)\n",
    "\n",
    "ax2 = fig.add_subplot(1,2,2)\n",
    "ax2.set_title(y_test[index], fontsize=22)\n",
    "ax2.imshow(image_gray,  cmap='gray')\n",
    "\n",
    "\n"
   ]
  },
  {
   "cell_type": "markdown",
   "metadata": {},
   "source": [
    "### Model Architecture"
   ]
  },
  {
   "cell_type": "code",
   "execution_count": 310,
   "metadata": {
    "collapsed": true
   },
   "outputs": [],
   "source": [
    "### Define your architecture here.\n",
    "### Feel free to use as many code cells as needed.\n",
    "\n",
    "import tensorflow as tf\n",
    "\n",
    "EPOCHS = 25\n",
    "BATCH_SIZE = 128\n",
    "\n",
    "from tensorflow.contrib.layers import flatten\n",
    "\n",
    "\"\"\"\n",
    "\n",
    "\n",
    "def LeNet(x,keep_prob):    \n",
    "    # Arguments used for tf.truncated_normal, randomly defines variables for the weights and biases for each layer\n",
    "    mu = 0\n",
    "    sigma = 0.1\n",
    "    \n",
    "    # Layer 1: Convolutional. Input = 32x32x1. Output = 28x28x24.\n",
    "    conv1_W = tf.Variable(tf.truncated_normal(shape=(5, 5, 1, 24), mean = mu, stddev = sigma))\n",
    "    conv1_b = tf.Variable(tf.zeros(24))\n",
    "    conv1   = tf.nn.conv2d(x, conv1_W, strides=[1, 1, 1, 1], padding='VALID') + conv1_b\n",
    "    conv1   = tf.nn.relu(conv1)\n",
    "    conv1   = tf.nn.dropout(conv1,keep_prob)\n",
    "    \n",
    "    # Layer 2: Pooling. Input = 28x28x24. Output = 14x14x24.\n",
    "    maxp2 = tf.nn.max_pool(conv1, ksize=[1, 2, 2, 1], strides=[1, 2, 2, 1], padding='VALID')\n",
    "    maxp2 = tf.nn.dropout(maxp2,keep_prob)\n",
    "    \n",
    "    # Layer 3: Convolutional. Input = 14x14x24. Output = 10x10x48.\n",
    "    conv3_W = tf.Variable(tf.truncated_normal(shape=(5, 5, 24, 48), mean = mu, stddev = sigma))\n",
    "    conv3_b = tf.Variable(tf.zeros(48))\n",
    "    conv3   = tf.nn.conv2d(maxp2, conv3_W, strides=[1, 1, 1, 1], padding='VALID') + conv3_b\n",
    "    conv3   = tf.nn.relu(conv3)\n",
    "    conv3   = tf.nn.dropout(conv3,keep_prob)\n",
    "    \n",
    "    # Layer 4: Pooling. Input = 10x10x48. Output = 5x5x48.\n",
    "    maxp4 = tf.nn.max_pool(conv3, ksize=[1, 2, 2, 1], strides=[1, 2, 2, 1], padding='VALID')\n",
    "    maxp4 = tf.nn.dropout(maxp4,keep_prob)\n",
    "\n",
    "    # SOLUTION: Flatten. Input = 5x5x48. Output = 1200.\n",
    "    flat5   = flatten(maxp4)\n",
    "    \n",
    "    # Layer 5: Fully Connected. Input = 1200. Output = 480.\n",
    "    fc5_W = tf.Variable(tf.truncated_normal(shape=(1200, 480), mean = mu, stddev = sigma))\n",
    "    fc5_b = tf.Variable(tf.zeros(480))\n",
    "    fc5   = tf.matmul(flat5, fc5_W) + fc5_b\n",
    "    fc5    = tf.nn.relu(fc5)\n",
    "    fc5    = tf.nn.dropout(fc5,keep_prob)\n",
    "    \n",
    "    # Layer 6: Fully Connected. Input = 480. Output = 240.\n",
    "    fc6_W  = tf.Variable(tf.truncated_normal(shape=(480, 240), mean = mu, stddev = sigma))\n",
    "    fc6_b  = tf.Variable(tf.zeros(240))\n",
    "    fc6    = tf.matmul(fc5, fc6_W) + fc6_b    \n",
    "    fc6    = tf.nn.relu(fc6)\n",
    "    fc6    = tf.nn.dropout(fc6,keep_prob)\n",
    "    \n",
    "    # Layer 7: Fully Connected. Input = 240. Output = 43.\n",
    "    fc7_W  = tf.Variable(tf.truncated_normal(shape=(240, 43), mean = mu, stddev = sigma))\n",
    "    fc7_b  = tf.Variable(tf.zeros(43))\n",
    "    logits = tf.matmul(fc6, fc7_W) + fc7_b\n",
    "\n",
    "    return logits\n",
    "\"\"\"\n",
    "\n",
    "def trafficSignClassifier(x, probability):    \n",
    "    # Arguments used for tf.truncated_normal, randomly defines variables for the weights and biases for each layer\n",
    "    mu = 0\n",
    "    sigma = 0.1\n",
    "\n",
    "\n",
    "    \n",
    "    # SOLUTION: Layer 1: Convolutional. Input = 32x32x1. Output = 28x28x6.\n",
    "    conv1_W = tf.Variable(tf.truncated_normal(shape=(5, 5, 3, 24), mean = mu, stddev = sigma))\n",
    "    conv1_b = tf.Variable(tf.zeros(24))\n",
    "    conv1   = tf.nn.conv2d(x, conv1_W, strides=[1, 1, 1, 1], padding='VALID') + conv1_b\n",
    "\n",
    "    # SOLUTION: Activation.\n",
    "    conv1 = tf.nn.relu(conv1)\n",
    "    conv1   = tf.nn.dropout(conv1, probability)\n",
    "    \n",
    "    # SOLUTION: Pooling. Input = 28x28x6. Output = 14x14x6.\n",
    "    conv1 = tf.nn.max_pool(conv1, ksize=[1, 2, 2, 1], strides=[1, 2, 2, 1], padding='VALID')\n",
    "    conv1   = tf.nn.dropout(conv1, probability)\n",
    "    \n",
    "    # SOLUTION: Layer 2: Convolutional. Output = 10x10x48.\n",
    "    conv2_W = tf.Variable(tf.truncated_normal(shape=(5, 5,24, 48), mean = mu, stddev = sigma))\n",
    "    conv2_b = tf.Variable(tf.zeros(48))\n",
    "    conv2   = tf.nn.conv2d(conv1, conv2_W, strides=[1, 1, 1, 1], padding='VALID') + conv2_b\n",
    "    conv2   = tf.nn.dropout(conv2, probability)\n",
    "    # SOLUTION: Activation.\n",
    "    conv2 = tf.nn.relu(conv2)\n",
    "\n",
    "    # SOLUTION: Pooling. Input = 10x10x48. Output = 5x5x48.\n",
    "    conv2 = tf.nn.max_pool(conv2, ksize=[1, 2, 2, 1], strides=[1, 2, 2, 1], padding='VALID')\n",
    "    conv2   = tf.nn.dropout(conv2, probability)\n",
    "    \n",
    "    # SOLUTION: Flatten. Input = 5x5x16. Output = 400.\n",
    "    fc0   = flatten(conv2)\n",
    "    \n",
    "    # SOLUTION: Layer 3: Fully Connected. Input = 400. Output = 120.\n",
    "    fc1_W = tf.Variable(tf.truncated_normal(shape=(1200, 300), mean = mu, stddev = sigma))\n",
    "    fc1_b = tf.Variable(tf.zeros(300))\n",
    "    fc1   = tf.matmul(fc0, fc1_W) + fc1_b\n",
    "    \n",
    "    # SOLUTION: Activation.\n",
    "    fc1    = tf.nn.relu(fc1)\n",
    "    fc1   = tf.nn.dropout(fc1, probability)\n",
    "    \n",
    "    # SOLUTION: Layer 4: Fully Connected. Input = 120. Output = 84.\n",
    "    fc2_W  = tf.Variable(tf.truncated_normal(shape=(300, 84), mean = mu, stddev = sigma))\n",
    "    fc2_b  = tf.Variable(tf.zeros(84))\n",
    "    fc2    = tf.matmul(fc1, fc2_W) + fc2_b\n",
    "    \n",
    "    # SOLUTION: Activation.\n",
    "    fc2    = tf.nn.relu(fc2)\n",
    "    fc2   = tf.nn.dropout(fc2, probability)\n",
    "    \n",
    "    # SOLUTION: Layer 5: Fully Connected. Input = 84. Output = 10.\n",
    "    fc3_W  = tf.Variable(tf.truncated_normal(shape=(84, 43), mean = mu, stddev = sigma))\n",
    "    fc3_b  = tf.Variable(tf.zeros(43))\n",
    "    logits = tf.matmul(fc2, fc3_W) + fc3_b\n",
    "    \n",
    "    return logits\n",
    "    \n",
    "\n"
   ]
  },
  {
   "cell_type": "markdown",
   "metadata": {},
   "source": [
    "### Train, Validate and Test the Model"
   ]
  },
  {
   "cell_type": "markdown",
   "metadata": {},
   "source": [
    "A validation set can be used to assess how well the model is performing. A low accuracy on the training and validation\n",
    "sets imply underfitting. A high accuracy on the training set but low accuracy on the validation set implies overfitting."
   ]
  },
  {
   "cell_type": "code",
   "execution_count": 311,
   "metadata": {
    "scrolled": false
   },
   "outputs": [
    {
     "name": "stdout",
     "output_type": "stream",
     "text": [
      "Training...\n",
      "\n",
      "EPOCH 1 ...\n",
      "Validation Accuracy = 0.308\n",
      "\n",
      "EPOCH 2 ...\n",
      "Validation Accuracy = 0.492\n",
      "\n",
      "EPOCH 3 ...\n",
      "Validation Accuracy = 0.615\n",
      "\n",
      "EPOCH 4 ...\n",
      "Validation Accuracy = 0.727\n",
      "\n",
      "EPOCH 5 ...\n",
      "Validation Accuracy = 0.795\n",
      "\n",
      "EPOCH 6 ...\n",
      "Validation Accuracy = 0.836\n",
      "\n",
      "EPOCH 7 ...\n",
      "Validation Accuracy = 0.869\n",
      "\n",
      "EPOCH 8 ...\n",
      "Validation Accuracy = 0.891\n",
      "\n",
      "EPOCH 9 ...\n",
      "Validation Accuracy = 0.903\n",
      "\n",
      "EPOCH 10 ...\n",
      "Validation Accuracy = 0.926\n",
      "\n",
      "EPOCH 11 ...\n",
      "Validation Accuracy = 0.914\n",
      "\n",
      "EPOCH 12 ...\n",
      "Validation Accuracy = 0.915\n",
      "\n",
      "EPOCH 13 ...\n",
      "Validation Accuracy = 0.932\n",
      "\n",
      "EPOCH 14 ...\n",
      "Validation Accuracy = 0.928\n",
      "\n",
      "EPOCH 15 ...\n",
      "Validation Accuracy = 0.936\n",
      "\n",
      "EPOCH 16 ...\n",
      "Validation Accuracy = 0.945\n",
      "\n",
      "EPOCH 17 ...\n",
      "Validation Accuracy = 0.946\n",
      "\n",
      "EPOCH 18 ...\n",
      "Validation Accuracy = 0.951\n",
      "\n",
      "EPOCH 19 ...\n",
      "Validation Accuracy = 0.944\n",
      "\n",
      "EPOCH 20 ...\n",
      "Validation Accuracy = 0.945\n",
      "\n",
      "EPOCH 21 ...\n",
      "Validation Accuracy = 0.942\n",
      "\n",
      "EPOCH 22 ...\n",
      "Validation Accuracy = 0.945\n",
      "\n",
      "EPOCH 23 ...\n",
      "Validation Accuracy = 0.949\n",
      "\n",
      "EPOCH 24 ...\n",
      "Validation Accuracy = 0.960\n",
      "\n",
      "EPOCH 25 ...\n",
      "Validation Accuracy = 0.950\n",
      "\n",
      "Model saved\n"
     ]
    }
   ],
   "source": [
    "### Train your model here.\n",
    "\n",
    "x = tf.placeholder(tf.float32, (None, 32, 32, 3))\n",
    "y = tf.placeholder(tf.int32, (None))\n",
    "one_hot_y = tf.one_hot(y, 43)\n",
    "\n",
    "probability = tf.placeholder(tf.float32)\n",
    "\n",
    "rate = 0.001\n",
    "\n",
    "\n",
    "logits = trafficSignClassifier(x, probability)\n",
    "\n",
    "cross_entropy = tf.nn.softmax_cross_entropy_with_logits(labels=one_hot_y, logits=logits)\n",
    "loss_operation = tf.reduce_mean(cross_entropy)\n",
    "optimizer = tf.train.AdamOptimizer(learning_rate = rate)\n",
    "training_operation = optimizer.minimize(loss_operation)\n",
    "\n",
    "### Calculate and report the accuracy on the training and validation set.\n",
    "\n",
    "correct_prediction = tf.equal(tf.argmax(logits, 1), tf.argmax(one_hot_y, 1))\n",
    "accuracy_operation = tf.reduce_mean(tf.cast(correct_prediction, tf.float32))\n",
    "saver = tf.train.Saver()\n",
    "\n",
    "def evaluate(X_data, y_data):\n",
    "    num_examples = len(X_data)\n",
    "    total_accuracy = 0\n",
    "    sess = tf.get_default_session()\n",
    "    for offset in range(0, num_examples, BATCH_SIZE):\n",
    "        batch_x, batch_y = X_data[offset:offset+BATCH_SIZE], y_data[offset:offset+BATCH_SIZE]\n",
    "        accuracy = sess.run(accuracy_operation, feed_dict={x: batch_x, y: batch_y, probability: 1.})\n",
    "        total_accuracy += (accuracy * len(batch_x))\n",
    "    return total_accuracy / num_examples\n",
    "\n",
    "\n",
    "with tf.Session() as sess:\n",
    "    sess.run(tf.global_variables_initializer())\n",
    "    num_examples = len(X_train)\n",
    "    \n",
    "    print(\"Training...\")\n",
    "    print()\n",
    "    for i in range(EPOCHS):\n",
    "        norm_X_train, y_train = shuffle(norm_X_train, y_train)\n",
    "        for offset in range(0, num_examples, BATCH_SIZE):\n",
    "            end = offset + BATCH_SIZE\n",
    "            batch_x, batch_y = norm_X_train[offset:end], y_train[offset:end]\n",
    "            sess.run(training_operation, feed_dict={x: batch_x, y: batch_y, probability: 0.6})\n",
    "            \n",
    "        validation_accuracy = evaluate(norm_X_valid, y_valid)\n",
    "        print(\"EPOCH {} ...\".format(i+1))\n",
    "        print(\"Validation Accuracy = {:.3f}\".format(validation_accuracy))\n",
    "        print()\n",
    "        \n",
    "    saver.save(sess, './trafficSignClassifier')\n",
    "    print(\"Model saved\")\n",
    "    \n",
    "\n",
    "### Once a final model architecture is selected, \n",
    "### the accuracy on the test set should be calculated and reported as well.\n",
    "### Feel free to use as many code cells as needed.\n",
    "\n"
   ]
  },
  {
   "cell_type": "code",
   "execution_count": 312,
   "metadata": {},
   "outputs": [
    {
     "name": "stdout",
     "output_type": "stream",
     "text": [
      "Test Accuracy = 0.953\n"
     ]
    }
   ],
   "source": [
    "with tf.Session() as sess:\n",
    "    saver.restore(sess, tf.train.latest_checkpoint('.'))\n",
    "\n",
    "    test_accuracy = evaluate(norm_X_test, y_test)\n",
    "    print(\"Test Accuracy = {:.3f}\".format(test_accuracy))"
   ]
  },
  {
   "cell_type": "markdown",
   "metadata": {},
   "source": [
    "---\n",
    "\n",
    "## Step 3: Test a Model on New Images\n",
    "\n",
    "To give yourself more insight into how your model is working, download at least five pictures of German traffic signs from the web and use your model to predict the traffic sign type.\n",
    "\n",
    "You may find `signnames.csv` useful as it contains mappings from the class id (integer) to the actual sign name."
   ]
  },
  {
   "cell_type": "markdown",
   "metadata": {},
   "source": [
    "### Load and Output the Images"
   ]
  },
  {
   "cell_type": "code",
   "execution_count": 313,
   "metadata": {
    "scrolled": true
   },
   "outputs": [
    {
     "data": {
      "image/png": "[encoded data removed]",
      "text/plain": [
       "<matplotlib.figure.Figure at 0x14612113ef0>"
      ]
     },
     "metadata": {},
     "output_type": "display_data"
    },
    {
     "data": {
      "image/png": "[encoded data removed]",
      "text/plain": [
       "<matplotlib.figure.Figure at 0x14624086ba8>"
      ]
     },
     "metadata": {},
     "output_type": "display_data"
    }
   ],
   "source": [
    "### Load the images and plot them here.\n",
    "### Feel free to use as many code cells as needed.\n",
    "\n",
    "\n",
    "import matplotlib.pyplot as plt\n",
    "import matplotlib.image as mpimg\n",
    "\n",
    "from IPython.display import Image\n",
    "from IPython.display import display\n",
    "import glob\n",
    "\n",
    "test_images = sorted(glob.glob('test_images/test*.jpg'))\n",
    "test2_images_array = []\n",
    "test2_images_array_gray = []\n",
    "\n",
    "y_test2 = [0,1,2,3,4,5,12,13,14,25,38]\n",
    "\n",
    "for file in test_images:\n",
    "    #1. Read an Image\n",
    "    image = mpimg.imread(file)\n",
    "    test2_images_array.append(image)\n",
    "    \n",
    "    #2. Convert image to grayscale\n",
    "    gray = cv2.cvtColor(image, cv2.COLOR_BGR2GRAY)\n",
    "    gray = gray.reshape(32,32,1)\n",
    "    test2_images_array_gray.append(gray)\n",
    "\n",
    "    \n",
    "test2_images_np = np.array(test2_images_array)\n",
    "test2_images_np_gray = np.array(test2_images_array_gray)\n",
    "\n",
    "fig1 = plt.figure(figsize = (len(test2_images_array), 1))\n",
    "fig2 = plt.figure(figsize = (len(test2_images_array), 1))\n",
    "\n",
    "for i in range(len(test2_images_array)):\n",
    "\n",
    "    image = test2_images_np[i].squeeze()\n",
    "    \n",
    "    ax1 = fig1.add_subplot(1,len(test2_images_array),i + 1)\n",
    "    ax1.set_xticklabels([])\n",
    "    ax1.set_yticklabels([])\n",
    "    ax1.set_title(y_test2[i], fontsize=22)\n",
    "    ax1.imshow(image)\n",
    "\n",
    "for i in range(len(test2_images_array)):\n",
    "\n",
    "    gray = test2_images_np_gray[i].squeeze()\n",
    "    \n",
    "    ax2 = fig2.add_subplot(1,len(test2_images_array),i + 1)\n",
    "    ax2.set_xticklabels([])\n",
    "    ax2.set_yticklabels([])\n",
    "    ax2.set_title(y_test2[i], fontsize=22)\n",
    "    ax2.imshow(gray, cmap='gray')\n",
    "    \n",
    "\n",
    "\n",
    "\n"
   ]
  },
  {
   "cell_type": "code",
   "execution_count": 314,
   "metadata": {},
   "outputs": [
    {
     "name": "stdout",
     "output_type": "stream",
     "text": [
      "11\n",
      "11\n"
     ]
    }
   ],
   "source": [
    "norm_X_test2 = normalize_data(test2_images_np)"
   ]
  },
  {
   "cell_type": "code",
   "execution_count": null,
   "metadata": {},
   "outputs": [],
   "source": []
  },
  {
   "cell_type": "markdown",
   "metadata": {},
   "source": [
    "### Predict the Sign Type for Each Image"
   ]
  },
  {
   "cell_type": "code",
   "execution_count": 315,
   "metadata": {
    "scrolled": true
   },
   "outputs": [
    {
     "name": "stdout",
     "output_type": "stream",
     "text": [
      "Prediction \t|\t Actual \t|\t Result\n",
      "---------------------------------------------------------------\n",
      "\t 0  \t|\t\t 0 \t|\t Pass\n",
      "\t 1  \t|\t\t 1 \t|\t Pass\n",
      "\t 2  \t|\t\t 2 \t|\t Pass\n",
      "\t 2  \t|\t\t 3 \t|\t Fail\n",
      "\t 1  \t|\t\t 4 \t|\t Fail\n",
      "\t 5  \t|\t\t 5 \t|\t Pass\n",
      "\t 12  \t|\t\t 12 \t|\t Pass\n",
      "\t 13  \t|\t\t 13 \t|\t Pass\n",
      "\t 14  \t|\t\t 14 \t|\t Pass\n",
      "\t 25  \t|\t\t 25 \t|\t Pass\n",
      "\t 38  \t|\t\t 38 \t|\t Pass\n"
     ]
    }
   ],
   "source": [
    "### Run the predictions here and use the model to output the prediction for each image.\n",
    "### Make sure to pre-process the images with the same pre-processing pipeline used earlier.\n",
    "### Feel free to use as many code cells as needed.\n",
    "\n",
    "correct_prediction = tf.argmax(logits, 1)\n",
    "\n",
    "with tf.Session() as sess:\n",
    "    \n",
    "    saver.restore(sess, tf.train.latest_checkpoint('.'))\n",
    "    #Probability must be set to 1.0 for testing\n",
    "    correct_prediction_index = sess.run(correct_prediction, feed_dict={x: norm_X_test2, y: y_test2, probability: 1.0})\n",
    "\n",
    "print(\"Prediction\", \"\\t|\\t\", \"Actual\",  \"\\t|\\t\", \"Result\")\n",
    "print(\"---------------------------------------------------------------\")\n",
    "for i in range(len(correct_prediction_index)):\n",
    "    \n",
    "    if(correct_prediction_index[i] == y_test2[i]):\n",
    "        result = \"Pass\"\n",
    "\n",
    "    else:\n",
    "        result = \"Fail\"\n",
    "    \n",
    "    print(\"\\t\", correct_prediction_index[i],\" \\t|\\t\\t\", y_test2[i],\"\\t|\\t\", result)\n",
    "        #print(i, norm_X_test2_gray[i])"
   ]
  },
  {
   "cell_type": "markdown",
   "metadata": {},
   "source": [
    "### Analyze Performance"
   ]
  },
  {
   "cell_type": "code",
   "execution_count": 318,
   "metadata": {},
   "outputs": [
    {
     "name": "stdout",
     "output_type": "stream",
     "text": [
      "Test Accuracy = 0.818\n"
     ]
    }
   ],
   "source": [
    "### Calculate the accuracy for these 5 new images. \n",
    "### For example, if the model predicted 1 out of 5 signs correctly, it's 20% accurate on these new images.\n",
    "with tf.Session() as sess:\n",
    "    saver.restore(sess, tf.train.latest_checkpoint('.'))\n",
    "\n",
    "    test_accuracy = evaluate(norm_X_test2, y_test2)\n",
    "    print(\"Test Accuracy = {:.3f}\".format(test_accuracy))"
   ]
  },
  {
   "cell_type": "markdown",
   "metadata": {},
   "source": [
    "### Output Top 5 Softmax Probabilities For Each Image Found on the Web"
   ]
  },
  {
   "cell_type": "markdown",
   "metadata": {},
   "source": [
    "For each of the new images, print out the model's softmax probabilities to show the **certainty** of the model's predictions (limit the output to the top 5 probabilities for each image). [`tf.nn.top_k`](https://www.tensorflow.org/versions/r0.12/api_docs/python/nn.html#top_k) could prove helpful here. \n",
    "\n",
    "The example below demonstrates how tf.nn.top_k can be used to find the top k predictions for each image.\n",
    "\n",
    "`tf.nn.top_k` will return the values and indices (class ids) of the top k predictions. So if k=3, for each sign, it'll return the 3 largest probabilities (out of a possible 43) and the correspoding class ids.\n",
    "\n",
    "Take this numpy array as an example. The values in the array represent predictions. The array contains softmax probabilities for five candidate images with six possible classes. `tk.nn.top_k` is used to choose the three classes with the highest probability:\n",
    "\n",
    "```\n",
    "# (5, 6) array\n",
    "a = np.array([[ 0.24879643,  0.07032244,  0.12641572,  0.34763842,  0.07893497,\n",
    "         0.12789202],\n",
    "       [ 0.28086119,  0.27569815,  0.08594638,  0.0178669 ,  0.18063401,\n",
    "         0.15899337],\n",
    "       [ 0.26076848,  0.23664738,  0.08020603,  0.07001922,  0.1134371 ,\n",
    "         0.23892179],\n",
    "       [ 0.11943333,  0.29198961,  0.02605103,  0.26234032,  0.1351348 ,\n",
    "         0.16505091],\n",
    "       [ 0.09561176,  0.34396535,  0.0643941 ,  0.16240774,  0.24206137,\n",
    "         0.09155967]])\n",
    "```\n",
    "\n",
    "Running it through `sess.run(tf.nn.top_k(tf.constant(a), k=3))` produces:\n",
    "\n",
    "```\n",
    "TopKV2(values=array([[ 0.34763842,  0.24879643,  0.12789202],\n",
    "       [ 0.28086119,  0.27569815,  0.18063401],\n",
    "       [ 0.26076848,  0.23892179,  0.23664738],\n",
    "       [ 0.29198961,  0.26234032,  0.16505091],\n",
    "       [ 0.34396535,  0.24206137,  0.16240774]]), indices=array([[3, 0, 5],\n",
    "       [0, 1, 4],\n",
    "       [0, 5, 1],\n",
    "       [1, 3, 5],\n",
    "       [1, 4, 3]], dtype=int32))\n",
    "```\n",
    "\n",
    "Looking just at the first row we get `[ 0.34763842,  0.24879643,  0.12789202]`, you can confirm these are the 3 largest probabilities in `a`. You'll also notice `[3, 0, 5]` are the corresponding indices."
   ]
  },
  {
   "cell_type": "code",
   "execution_count": 320,
   "metadata": {},
   "outputs": [
    {
     "name": "stdout",
     "output_type": "stream",
     "text": [
      "Top 5 Matches for Image:   \t| Output Image (Top 5) \t| Percentage Match (%) \t|\t Result\n",
      "---------------------------------------------------------------------------------------------------\n",
      "\t\t 0 \t\t| \t\t \t| \t\t \t|\t \t\n",
      "\t\t\t\t| \t    0 \t\t|\t 96.1592 \t|\t Match Found\n",
      "\t\t\t\t| \t    1 \t\t|\t 3.2064 \t|\t    X   \n",
      "\t\t\t\t| \t    3 \t\t|\t 0.5182 \t|\t    X   \n",
      "\t\t\t\t| \t    5 \t\t|\t 0.0533 \t|\t    X   \n",
      "\t\t\t\t| \t    2 \t\t|\t 0.0301 \t|\t    X   \n",
      "\t\t 1 \t\t| \t\t \t| \t\t \t|\t \t\n",
      "\t\t\t\t| \t    1 \t\t|\t 99.9977 \t|\t Match Found\n",
      "\t\t\t\t| \t    0 \t\t|\t 0.0021 \t|\t    X   \n",
      "\t\t\t\t| \t    2 \t\t|\t 0.0003 \t|\t    X   \n",
      "\t\t\t\t| \t    4 \t\t|\t 0.0000 \t|\t    X   \n",
      "\t\t\t\t| \t    5 \t\t|\t 0.0000 \t|\t    X   \n",
      "\t\t 2 \t\t| \t\t \t| \t\t \t|\t \t\n",
      "\t\t\t\t| \t    1 \t\t|\t 71.3780 \t|\t    X   \n",
      "\t\t\t\t| \t    2 \t\t|\t 28.6171 \t|\t Match Found\n",
      "\t\t\t\t| \t    0 \t\t|\t 0.0049 \t|\t    X   \n",
      "\t\t\t\t| \t    5 \t\t|\t 0.0001 \t|\t    X   \n",
      "\t\t\t\t| \t    4 \t\t|\t 0.0000 \t|\t    X   \n",
      "\t\t 3 \t\t| \t\t \t| \t\t \t|\t \t\n",
      "\t\t\t\t| \t    2 \t\t|\t 51.2636 \t|\t    X   \n",
      "\t\t\t\t| \t    1 \t\t|\t 36.3712 \t|\t    X   \n",
      "\t\t\t\t| \t    10 \t\t|\t 7.8096 \t|\t    X   \n",
      "\t\t\t\t| \t    5 \t\t|\t 1.7873 \t|\t    X   \n",
      "\t\t\t\t| \t    19 \t\t|\t 0.9358 \t|\t    X   \n",
      "\t\t 4 \t\t| \t\t \t| \t\t \t|\t \t\n",
      "\t\t\t\t| \t    24 \t\t|\t 46.0722 \t|\t    X   \n",
      "\t\t\t\t| \t    1 \t\t|\t 33.6215 \t|\t    X   \n",
      "\t\t\t\t| \t    27 \t\t|\t 9.4462 \t|\t    X   \n",
      "\t\t\t\t| \t    11 \t\t|\t 6.9885 \t|\t    X   \n",
      "\t\t\t\t| \t    25 \t\t|\t 2.0349 \t|\t    X   \n",
      "\t\t 5 \t\t| \t\t \t| \t\t \t|\t \t\n",
      "\t\t\t\t| \t    2 \t\t|\t 81.6024 \t|\t    X   \n",
      "\t\t\t\t| \t    5 \t\t|\t 15.1598 \t|\t Match Found\n",
      "\t\t\t\t| \t    3 \t\t|\t 1.8107 \t|\t    X   \n",
      "\t\t\t\t| \t    1 \t\t|\t 1.1018 \t|\t    X   \n",
      "\t\t\t\t| \t    7 \t\t|\t 0.3206 \t|\t    X   \n",
      "\t\t 12 \t\t| \t\t \t| \t\t \t|\t \t\n",
      "\t\t\t\t| \t    12 \t\t|\t 100.0000 \t|\t Match Found\n",
      "\t\t\t\t| \t    40 \t\t|\t 0.0000 \t|\t    X   \n",
      "\t\t\t\t| \t    13 \t\t|\t 0.0000 \t|\t    X   \n",
      "\t\t\t\t| \t    38 \t\t|\t 0.0000 \t|\t    X   \n",
      "\t\t\t\t| \t    2 \t\t|\t 0.0000 \t|\t    X   \n",
      "\t\t 13 \t\t| \t\t \t| \t\t \t|\t \t\n",
      "\t\t\t\t| \t    13 \t\t|\t 100.0000 \t|\t Match Found\n",
      "\t\t\t\t| \t    12 \t\t|\t 0.0000 \t|\t    X   \n",
      "\t\t\t\t| \t    9 \t\t|\t 0.0000 \t|\t    X   \n",
      "\t\t\t\t| \t    15 \t\t|\t 0.0000 \t|\t    X   \n",
      "\t\t\t\t| \t    25 \t\t|\t 0.0000 \t|\t    X   \n",
      "\t\t 14 \t\t| \t\t \t| \t\t \t|\t \t\n",
      "\t\t\t\t| \t    14 \t\t|\t 100.0000 \t|\t Match Found\n",
      "\t\t\t\t| \t    38 \t\t|\t 0.0000 \t|\t    X   \n",
      "\t\t\t\t| \t    3 \t\t|\t 0.0000 \t|\t    X   \n",
      "\t\t\t\t| \t    34 \t\t|\t 0.0000 \t|\t    X   \n",
      "\t\t\t\t| \t    35 \t\t|\t 0.0000 \t|\t    X   \n",
      "\t\t 25 \t\t| \t\t \t| \t\t \t|\t \t\n",
      "\t\t\t\t| \t    25 \t\t|\t 99.9929 \t|\t Match Found\n",
      "\t\t\t\t| \t    20 \t\t|\t 0.0033 \t|\t    X   \n",
      "\t\t\t\t| \t    36 \t\t|\t 0.0023 \t|\t    X   \n",
      "\t\t\t\t| \t    28 \t\t|\t 0.0007 \t|\t    X   \n",
      "\t\t\t\t| \t    29 \t\t|\t 0.0003 \t|\t    X   \n",
      "\t\t 38 \t\t| \t\t \t| \t\t \t|\t \t\n",
      "\t\t\t\t| \t    38 \t\t|\t 100.0000 \t|\t Match Found\n",
      "\t\t\t\t| \t    34 \t\t|\t 0.0000 \t|\t    X   \n",
      "\t\t\t\t| \t    12 \t\t|\t 0.0000 \t|\t    X   \n",
      "\t\t\t\t| \t    3 \t\t|\t 0.0000 \t|\t    X   \n",
      "\t\t\t\t| \t    13 \t\t|\t 0.0000 \t|\t    X   \n"
     ]
    }
   ],
   "source": [
    "### Print out the top five softmax probabilities for the predictions on the German traffic sign images found on the web. \n",
    "### Feel free to use as many code cells as needed.\n",
    "softmax = tf.nn.softmax(logits)\n",
    "top_5 = tf.nn.top_k(softmax, k=5)\n",
    "\n",
    "with tf.Session() as sess:\n",
    "    saver.restore(sess, tf.train.latest_checkpoint('.'))\n",
    "    top_5 = sess.run(top_5, feed_dict={x: norm_X_test2, y: y_test2, probability: 1.0})\n",
    "    #saver.restore(sess, tf.train.latest_checkpoint('.'))\n",
    "    \n",
    "top_5_percent_match = top_5[0].squeeze()\n",
    "top_5_indexes = top_5[1].squeeze()\n",
    "\n",
    "result = \"\"\n",
    "print(\"Top 5 Matches for Image:\", \" \", \"\\t|\",\"Output Image (Top 5)\",\"\\t|\", \"Percentage Match (%)\",\"\\t|\\t\", \"Result\" )\n",
    "print(\"---------------------------------------------------------------------------------------------------\")\n",
    "\n",
    "for i in range (len(y_test2)):\n",
    "    \n",
    "    print(\"\\t\\t\",  y_test2[i], \"\\t\\t|\",\"\\t\\t\",\"\\t|\", \"\\t\\t\",\"\\t|\\t\", \"\\t\" )\n",
    "\n",
    "    \n",
    "    \n",
    "    for j in range(len(top_5_percent_match[0])):\n",
    "        \n",
    "        if(top_5_results[i][j] == y_test2[i]):\n",
    "            result = \"Match Found\"\n",
    "        else:\n",
    "            result = \"   X   \"\n",
    "\n",
    "        print(\"\\t\\t\\t\\t| \\t   \",top_5_results[i][j],\"\\t\\t|\\t\",format(top_5_percent_match[i][j]*100,'.4f'), \"\\t|\\t\", result)\n",
    "\n",
    "\n",
    "\n",
    "\n"
   ]
  },
  {
   "cell_type": "markdown",
   "metadata": {},
   "source": [
    "### Project Writeup\n",
    "\n",
    "Once you have completed the code implementation, document your results in a project writeup using this [template](https://github.com/udacity/CarND-Traffic-Sign-Classifier-Project/blob/master/writeup_template.md) as a guide. The writeup can be in a markdown or pdf file. "
   ]
  },
  {
   "cell_type": "markdown",
   "metadata": {},
   "source": [
    "> **Note**: Once you have completed all of the code implementations and successfully answered each question above, you may finalize your work by exporting the iPython Notebook as an HTML document. You can do this by using the menu above and navigating to  \\n\",\n",
    "    \"**File -> Download as -> HTML (.html)**. Include the finished document along with this notebook as your submission."
   ]
  },
  {
   "cell_type": "markdown",
   "metadata": {},
   "source": [
    "---\n",
    "\n",
    "## Step 4 (Optional): Visualize the Neural Network's State with Test Images\n",
    "\n",
    " This Section is not required to complete but acts as an additional excersise for understaning the output of a neural network's weights. While neural networks can be a great learning device they are often referred to as a black box. We can understand what the weights of a neural network look like better by plotting their feature maps. After successfully training your neural network you can see what it's feature maps look like by plotting the output of the network's weight layers in response to a test stimuli image. From these plotted feature maps, it's possible to see what characteristics of an image the network finds interesting. For a sign, maybe the inner network feature maps react with high activation to the sign's boundary outline or to the contrast in the sign's painted symbol.\n",
    "\n",
    " Provided for you below is the function code that allows you to get the visualization output of any tensorflow weight layer you want. The inputs to the function should be a stimuli image, one used during training or a new one you provided, and then the tensorflow variable name that represents the layer's state during the training process, for instance if you wanted to see what the [LeNet lab's](https://classroom.udacity.com/nanodegrees/nd013/parts/fbf77062-5703-404e-b60c-95b78b2f3f9e/modules/6df7ae49-c61c-4bb2-a23e-6527e69209ec/lessons/601ae704-1035-4287-8b11-e2c2716217ad/concepts/d4aca031-508f-4e0b-b493-e7b706120f81) feature maps looked like for it's second convolutional layer you could enter conv2 as the tf_activation variable.\n",
    "\n",
    "For an example of what feature map outputs look like, check out NVIDIA's results in their paper [End-to-End Deep Learning for Self-Driving Cars](https://devblogs.nvidia.com/parallelforall/deep-learning-self-driving-cars/) in the section Visualization of internal CNN State. NVIDIA was able to show that their network's inner weights had high activations to road boundary lines by comparing feature maps from an image with a clear path to one without. Try experimenting with a similar test to show that your trained network's weights are looking for interesting features, whether it's looking at differences in feature maps from images with or without a sign, or even what feature maps look like in a trained network vs a completely untrained one on the same sign image.\n",
    "\n",
    "<figure>\n",
    " <img src=\"visualize_cnn.png\" width=\"380\" alt=\"Combined Image\" />\n",
    " <figcaption>\n",
    " <p></p> \n",
    " <p style=\"text-align: center;\"> Your output should look something like this (above)</p> \n",
    " </figcaption>\n",
    "</figure>\n",
    " <p></p> \n"
   ]
  },
  {
   "cell_type": "code",
   "execution_count": null,
   "metadata": {
    "collapsed": true
   },
   "outputs": [],
   "source": [
    "### Visualize your network's feature maps here.\n",
    "### Feel free to use as many code cells as needed.\n",
    "\n",
    "# image_input: the test image being fed into the network to produce the feature maps\n",
    "# tf_activation: should be a tf variable name used during your training procedure that represents the calculated state of a specific weight layer\n",
    "# activation_min/max: can be used to view the activation contrast in more detail, by default matplot sets min and max to the actual min and max values of the output\n",
    "# plt_num: used to plot out multiple different weight feature map sets on the same block, just extend the plt number for each new feature map entry\n",
    "\n",
    "def outputFeatureMap(image_input, tf_activation, activation_min=-1, activation_max=-1 ,plt_num=1):\n",
    "    # Here make sure to preprocess your image_input in a way your network expects\n",
    "    # with size, normalization, ect if needed\n",
    "    # image_input =\n",
    "    # Note: x should be the same name as your network's tensorflow data placeholder variable\n",
    "    # If you get an error tf_activation is not defined it may be having trouble accessing the variable from inside a function\n",
    "    activation = tf_activation.eval(session=sess,feed_dict={x : image_input})\n",
    "    featuremaps = activation.shape[3]\n",
    "    plt.figure(plt_num, figsize=(15,15))\n",
    "    for featuremap in range(featuremaps):\n",
    "        plt.subplot(6,8, featuremap+1) # sets the number of feature maps to show on each row and column\n",
    "        plt.title('FeatureMap ' + str(featuremap)) # displays the feature map number\n",
    "        if activation_min != -1 & activation_max != -1:\n",
    "            plt.imshow(activation[0,:,:, featuremap], interpolation=\"nearest\", vmin =activation_min, vmax=activation_max, cmap=\"gray\")\n",
    "        elif activation_max != -1:\n",
    "            plt.imshow(activation[0,:,:, featuremap], interpolation=\"nearest\", vmax=activation_max, cmap=\"gray\")\n",
    "        elif activation_min !=-1:\n",
    "            plt.imshow(activation[0,:,:, featuremap], interpolation=\"nearest\", vmin=activation_min, cmap=\"gray\")\n",
    "        else:\n",
    "            plt.imshow(activation[0,:,:, featuremap], interpolation=\"nearest\", cmap=\"gray\")"
   ]
  }
 ],
 "metadata": {
  "anaconda-cloud": {},
  "kernelspec": {
   "display_name": "Python 3",
   "language": "python",
   "name": "python3"
  },
  "language_info": {
   "codemirror_mode": {
    "name": "ipython",
    "version": 3
   },
   "file_extension": ".py",
   "mimetype": "text/x-python",
   "name": "python",
   "nbconvert_exporter": "python",
   "pygments_lexer": "ipython3",
   "version": "3.5.3"
  },
  "widgets": {
   "state": {},
   "version": "1.1.2"
  }
 },
 "nbformat": 4,
 "nbformat_minor": 1
}
